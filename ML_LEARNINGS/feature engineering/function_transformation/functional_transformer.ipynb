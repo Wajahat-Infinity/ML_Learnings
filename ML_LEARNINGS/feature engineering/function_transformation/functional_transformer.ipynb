{
  "nbformat": 4,
  "nbformat_minor": 0,
  "metadata": {
    "colab": {
      "private_outputs": true,
      "provenance": []
    },
    "kernelspec": {
      "name": "python3",
      "display_name": "Python 3"
    },
    "language_info": {
      "name": "python"
    }
  },
  "cells": [
    {
      "cell_type": "code",
      "execution_count": null,
      "metadata": {
        "id": "4W6j5bX4Op-n"
      },
      "outputs": [],
      "source": [
        "import numpy  as np\n",
        "import pandas as pd\n",
        "import scipy.stats as stats\n",
        "import matplotlib.pyplot as plt\n",
        "import seaborn as sns\n"
      ]
    },
    {
      "cell_type": "code",
      "source": [
        "from sklearn.model_selection import train_test_split\n",
        "from sklearn.model_selection import cross_val_score\n",
        "from sklearn.metrics import accuracy_score\n",
        "\n",
        "from sklearn.linear_model import LogisticRegression\n",
        "from sklearn.tree import DecisionTreeClassifier\n",
        "\n",
        "from sklearn.preprocessing import FunctionTransformer\n",
        "from sklearn.compose import ColumnTransformer\n"
      ],
      "metadata": {
        "id": "0Fo_Hfm5PJPS"
      },
      "execution_count": null,
      "outputs": []
    },
    {
      "cell_type": "code",
      "source": [
        "df = pd.read_csv('train.csv')"
      ],
      "metadata": {
        "id": "XECJXm4fQc7M"
      },
      "execution_count": null,
      "outputs": []
    },
    {
      "cell_type": "code",
      "source": [
        "df.sample(3)"
      ],
      "metadata": {
        "id": "DdXdk1BqRFll"
      },
      "execution_count": null,
      "outputs": []
    },
    {
      "cell_type": "code",
      "source": [
        "usecols = ['Age', 'Fare','Survived']\n",
        "df = df[usecols]"
      ],
      "metadata": {
        "id": "8ZKKwWloRGtW"
      },
      "execution_count": null,
      "outputs": []
    },
    {
      "cell_type": "code",
      "source": [
        "df.sample(3)"
      ],
      "metadata": {
        "id": "W1Z1fkg4RZxw"
      },
      "execution_count": null,
      "outputs": []
    },
    {
      "cell_type": "code",
      "source": [
        "df.isnull().sum()"
      ],
      "metadata": {
        "id": "OLFBOMKjRhy0"
      },
      "execution_count": null,
      "outputs": []
    },
    {
      "cell_type": "code",
      "source": [
        "df['Age'].fillna(df['Age'].mean(), inplace=True)"
      ],
      "metadata": {
        "id": "S4e3j4vCRs7J"
      },
      "execution_count": null,
      "outputs": []
    },
    {
      "cell_type": "code",
      "source": [
        "x = df.iloc[:,0:2]\n",
        "y = df.iloc[:,2]"
      ],
      "metadata": {
        "id": "3B9XKiQTZPgl"
      },
      "execution_count": null,
      "outputs": []
    },
    {
      "cell_type": "code",
      "source": [
        "X_train, X_test, y_train, y_test = train_test_split(x, y, test_size=0.2, random_state=42)"
      ],
      "metadata": {
        "id": "z04mVoT3ahMA"
      },
      "execution_count": null,
      "outputs": []
    },
    {
      "cell_type": "code",
      "source": [
        "plt.figure(figsize=(14,4))\n",
        "plt.subplot(1,2,1)\n",
        "sns.distplot(X_train['Age'])\n",
        "plt.title('Age PDF')\n",
        "plt.subplot(1,2,2)\n",
        "stats.probplot(X_train['Age'],dist='norm', plot=plt)\n",
        "plt.title('Age QQ Plot')\n",
        "plt.show()"
      ],
      "metadata": {
        "id": "oAHVeCx7mWJ1"
      },
      "execution_count": null,
      "outputs": []
    },
    {
      "cell_type": "code",
      "source": [
        "plt.figure(figsize=(14,4))\n",
        "plt.subplot(1,2,1)\n",
        "sns.distplot(X_train['Fare'])\n",
        "plt.title('Age PDF')\n",
        "plt.subplot(1,2,2)\n",
        "stats.probplot(X_train['Fare'],dist='norm', plot=plt)\n",
        "plt.title('Age QQ Plot')\n",
        "plt.show()"
      ],
      "metadata": {
        "id": "mcJXhMx6nYq7"
      },
      "execution_count": null,
      "outputs": []
    },
    {
      "cell_type": "code",
      "source": [
        "clf = LogisticRegression()\n",
        "clf2 = DecisionTreeClassifier()"
      ],
      "metadata": {
        "id": "aZwun011quK5"
      },
      "execution_count": null,
      "outputs": []
    },
    {
      "cell_type": "code",
      "source": [
        "clf.fit(X_train, y_train)\n",
        "clf2.fit(X_train, y_train)\n",
        "\n",
        "y_predict1 = clf.predict(X_test)\n",
        "y_predict2 = clf2.predict(X_test)\n",
        "\n",
        "print('Logistic Regression Accuracy: ', accuracy_score(y_test, y_predict1))\n",
        "print('Decision Tree Accuracy: ', accuracy_score(y_test, y_predict2))\n"
      ],
      "metadata": {
        "id": "sCqY4dsgtX7l"
      },
      "execution_count": null,
      "outputs": []
    },
    {
      "cell_type": "markdown",
      "source": [
        "By Using Function transformation"
      ],
      "metadata": {
        "id": "S2SNZRtiuUPK"
      }
    },
    {
      "cell_type": "code",
      "source": [
        "trf = FunctionTransformer(np.log1p)"
      ],
      "metadata": {
        "id": "oZBzytuKuQJz"
      },
      "execution_count": null,
      "outputs": []
    },
    {
      "cell_type": "code",
      "source": [
        "X_train_trf = trf.fit_transform(X_train)\n",
        "X_test_trf = trf.transform(X_test)\n",
        "#"
      ],
      "metadata": {
        "id": "YC624NNmvdie"
      },
      "execution_count": null,
      "outputs": []
    },
    {
      "cell_type": "code",
      "source": [
        "clf1 = LogisticRegression()\n",
        "clf2 = DecisionTreeClassifier()\n",
        "\n",
        "clf.fit(X_train_trf, y_train)\n",
        "clf2.fit(X_train_trf, y_train)\n",
        "\n",
        "y_predict1 = clf.predict(X_test_trf)\n",
        "y_predict2 = clf2.predict(X_test_trf)\n",
        "\n",
        "print('Logistic Regression Accuracy: ', accuracy_score(y_test, y_predict1))\n",
        "print('Decision Tree Accuracy: ', accuracy_score(y_test, y_predict2))"
      ],
      "metadata": {
        "id": "izwYbdO8vqIY"
      },
      "execution_count": null,
      "outputs": []
    },
    {
      "cell_type": "markdown",
      "source": [
        "the above result shows that the functiona transfermatin is suitable for the alghorithms like logistic regression and not much effective like the decision tree etc"
      ],
      "metadata": {
        "id": "f7hmG5wM0DJm"
      }
    },
    {
      "cell_type": "code",
      "source": [
        "X_transformed = trf.fit_transform(X_train) # Use X_train instead of X\n",
        "\n",
        "clf = LogisticRegression()\n",
        "clf2 = DecisionTreeClassifier()\n",
        "\n",
        "print(cross_val_score(clf, X_transformed, y_train, cv=10, scoring='accuracy').mean())\n",
        "print(cross_val_score(clf2, X_transformed, y_train, cv=10, scoring='accuracy').mean())"
      ],
      "metadata": {
        "id": "OjLpDNhSz93j"
      },
      "execution_count": null,
      "outputs": []
    },
    {
      "cell_type": "markdown",
      "source": [
        "cv=10: Indicates 10-fold cross-validation will be used. The data is split into 10 subsets (or \"folds\"), and the model is trained and evaluated 10 times, each time using a different fold as the validation set and the rest as the training set."
      ],
      "metadata": {
        "id": "6k3YXsAd2aOQ"
      }
    },
    {
      "cell_type": "code",
      "source": [
        "plt.figure(figsize=(14,4))\n",
        "\n",
        "plt.subplot(121)\n",
        "stats.probplot(X_train['Fare'], dist=\"norm\", plot=plt)\n",
        "plt.title('Fare Before Log')\n",
        "\n",
        "plt.subplot(122)\n",
        "stats.probplot(X_train_trf['Fare'], dist=\"norm\", plot=plt)\n",
        "plt.title('Fare After Log')\n",
        "\n",
        "plt.show()"
      ],
      "metadata": {
        "id": "o4h_0l_t2azd"
      },
      "execution_count": null,
      "outputs": []
    },
    {
      "cell_type": "code",
      "source": [
        "plt.figure(figsize=(14,4))\n",
        "\n",
        "plt.subplot(121)\n",
        "stats.probplot(X_train['Age'], dist=\"norm\", plot=plt)\n",
        "plt.title('Age Before Log')\n",
        "\n",
        "plt.subplot(122)\n",
        "stats.probplot(X_train_trf['Age'], dist=\"norm\", plot=plt)\n",
        "plt.title('Age After Log')\n",
        "\n",
        "plt.show()"
      ],
      "metadata": {
        "id": "cOj5nja33bIJ"
      },
      "execution_count": null,
      "outputs": []
    },
    {
      "cell_type": "markdown",
      "source": [
        "The abve transformation is not well suiting the age coloum which shown in above graph"
      ],
      "metadata": {
        "id": "LwXy_SKP5C64"
      }
    },
    {
      "cell_type": "code",
      "source": [],
      "metadata": {
        "id": "-q3aqNnZ31OV"
      },
      "execution_count": null,
      "outputs": []
    },
    {
      "cell_type": "markdown",
      "source": [
        "So we are going to transform only the Fare coloumn and check the accuracy"
      ],
      "metadata": {
        "id": "MJoR7n5-5KpI"
      }
    },
    {
      "cell_type": "code",
      "source": [
        "trf2 = ColumnTransformer([('log',FunctionTransformer(np.log1p),['Fare'])],remainder='passthrough')\n",
        "\n",
        "X_train_transformed2 = trf2.fit_transform(X_train)\n",
        "X_test_transformed2 = trf2.transform(X_test)"
      ],
      "metadata": {
        "id": "iqAEbMEs5RMv"
      },
      "execution_count": null,
      "outputs": []
    },
    {
      "cell_type": "code",
      "source": [
        "clf1 = LogisticRegression()\n",
        "clf2 = DecisionTreeClassifier()\n",
        "\n",
        "clf1.fit(X_train_transformed2, y_train)\n",
        "clf2.fit(X_train_transformed2, y_train)\n",
        "\n",
        "y_predict1 = clf1.predict(X_test_transformed2)\n",
        "y_predict2 = clf2.predict(X_test_transformed2)\n",
        "\n",
        "print('Logistic Regression Accuracy: ', accuracy_score(y_test, y_predict1))\n",
        "\n",
        "print(cross_val_score(clf1, X_train_transformed2, y_train, cv=10, scoring='accuracy').mean())\n",
        "print(cross_val_score(clf2, X_train_transformed2, y_train, cv=10, scoring='accuracy').mean())"
      ],
      "metadata": {
        "id": "zF4p2ci25gZb"
      },
      "execution_count": null,
      "outputs": []
    },
    {
      "cell_type": "code",
      "source": [
        "def apply_transform(transform):\n",
        "  X=df.iloc[:,0:2]\n",
        "  y=df.iloc[:,2]\n",
        "\n",
        "  trf = ColumnTransformer([('log',transform,['Fare'])],remainder='passthrough')\n",
        "  X_transformed = trf.fit_transform(X)\n",
        "  clf = LogisticRegression()\n",
        "  accuracy = cross_val_score(clf, X_transformed, y, cv=10, scoring='accuracy').mean()\n",
        "\n",
        "  plt.figure(figsize=(14,4))\n",
        "\n",
        "  plt.subplot(121)\n",
        "  stats.probplot(X['Fare'], dist=\"norm\", plot=plt)\n",
        "  plt.title('Fare Before Log')\n",
        "\n",
        "  plt.subplot(122)\n",
        "  stats.probplot(X_transformed[:,0], dist=\"norm\", plot=plt)\n",
        "  plt.title('Fare After Log')\n",
        "\n",
        "  plt.show()\n",
        "\n",
        "  return accuracy\n",
        "\n",
        "\n",
        "\n",
        "\n",
        "\n"
      ],
      "metadata": {
        "id": "lLqM3Zom6Dk5"
      },
      "execution_count": null,
      "outputs": []
    },
    {
      "cell_type": "code",
      "source": [
        "apply_transform(FunctionTransformer(np.log1p))"
      ],
      "metadata": {
        "id": "A5x4l46K6_5k"
      },
      "execution_count": null,
      "outputs": []
    },
    {
      "cell_type": "code",
      "source": [
        "apply_transform(FunctionTransformer(np.sqrt))"
      ],
      "metadata": {
        "id": "4CC2p26K7TCG"
      },
      "execution_count": null,
      "outputs": []
    },
    {
      "cell_type": "code",
      "source": [
        "apply_transform(FunctionTransformer(np.square))"
      ],
      "metadata": {
        "id": "GUeokeGW7c8S"
      },
      "execution_count": null,
      "outputs": []
    },
    {
      "cell_type": "code",
      "source": [
        "apply_transform(FunctionTransformer(np.cbrt))"
      ],
      "metadata": {
        "id": "aeSijMkz775D"
      },
      "execution_count": null,
      "outputs": []
    },
    {
      "cell_type": "markdown",
      "source": [
        "customize function"
      ],
      "metadata": {
        "id": "YrJfnyaQ8Q00"
      }
    },
    {
      "cell_type": "code",
      "source": [
        "apply_transform(FunctionTransformer(lambda x: x*12)) # Use a lambda expression to define the function"
      ],
      "metadata": {
        "id": "HzIERdAz7_97"
      },
      "execution_count": null,
      "outputs": []
    },
    {
      "cell_type": "code",
      "source": [],
      "metadata": {
        "id": "kDewSVi58G0y"
      },
      "execution_count": null,
      "outputs": []
    }
  ]
}