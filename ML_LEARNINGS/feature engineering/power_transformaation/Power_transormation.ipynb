{
  "nbformat": 4,
  "nbformat_minor": 0,
  "metadata": {
    "colab": {
      "private_outputs": true,
      "provenance": []
    },
    "kernelspec": {
      "name": "python3",
      "display_name": "Python 3"
    },
    "language_info": {
      "name": "python"
    }
  },
  "cells": [
    {
      "cell_type": "code",
      "execution_count": null,
      "metadata": {
        "id": "BZxPCjBnQbBY"
      },
      "outputs": [],
      "source": [
        "import pandas as pd\n",
        "import numpy as np\n",
        "import matplotlib.pyplot as plt\n",
        "import seaborn as sns\n",
        "import scipy.stats as stats"
      ]
    },
    {
      "cell_type": "code",
      "source": [
        "from sklearn.model_selection import train_test_split\n",
        "from sklearn.linear_model import LinearRegression\n",
        "from sklearn.model_selection import cross_val_score\n",
        "from sklearn.metrics import mean_squared_error, r2_score\n",
        "from sklearn.preprocessing import PowerTransformer"
      ],
      "metadata": {
        "id": "39hZIqeIRRan"
      },
      "execution_count": null,
      "outputs": []
    },
    {
      "cell_type": "code",
      "source": [
        "df=pd.read_csv('concrete_data.csv')"
      ],
      "metadata": {
        "id": "YY5Y-8ykSgco"
      },
      "execution_count": null,
      "outputs": []
    },
    {
      "cell_type": "markdown",
      "source": [
        "I choose this data because some data is not normally distributed"
      ],
      "metadata": {
        "id": "cGeXzoLMaREq"
      }
    },
    {
      "cell_type": "code",
      "source": [
        "df.sample(5)"
      ],
      "metadata": {
        "id": "DRg5iIqoZa7t"
      },
      "execution_count": null,
      "outputs": []
    },
    {
      "cell_type": "code",
      "source": [
        "df.shape"
      ],
      "metadata": {
        "id": "m2Rw7KgQZd-V"
      },
      "execution_count": null,
      "outputs": []
    },
    {
      "cell_type": "code",
      "source": [
        "df.isnull().sum()"
      ],
      "metadata": {
        "id": "UA2I-brCZr-g"
      },
      "execution_count": null,
      "outputs": []
    },
    {
      "cell_type": "code",
      "source": [
        "df.describe()"
      ],
      "metadata": {
        "id": "mDdzjs6iZ0rS"
      },
      "execution_count": null,
      "outputs": []
    },
    {
      "cell_type": "code",
      "source": [
        "X=df.drop('Strength',axis=1)\n",
        "y=df['Strength']\n",
        "# this way also\n",
        "# X=df.drop(columns=['Strength'])\n",
        "# Y=df.iloc[ : ,-1]"
      ],
      "metadata": {
        "id": "h0np9f8-aohe"
      },
      "execution_count": null,
      "outputs": []
    },
    {
      "cell_type": "code",
      "source": [
        "X_train,X_test,y_train,y_test=train_test_split(X,y,test_size=0.2,random_state=42)"
      ],
      "metadata": {
        "id": "Qw-XpXdqb7FJ"
      },
      "execution_count": null,
      "outputs": []
    },
    {
      "cell_type": "markdown",
      "source": [
        "Apply linear regression without any transformation"
      ],
      "metadata": {
        "id": "Lro1oLrxdCEJ"
      }
    },
    {
      "cell_type": "code",
      "source": [
        "lr=LinearRegression()\n",
        "lr.fit(X_train,y_train)\n",
        "\n",
        "y_pred=lr.predict(X_test)\n",
        "\n",
        "mse=mean_squared_error(y_test,y_pred)\n",
        "r2=r2_score(y_test,y_pred)\n",
        "print('MSE:',mse)\n",
        "print('R2:',r2)"
      ],
      "metadata": {
        "id": "w658ygKsc7AM"
      },
      "execution_count": null,
      "outputs": []
    },
    {
      "cell_type": "code",
      "source": [
        "# Plotting the distplots without any transformation\n",
        "\n",
        "for col in X_train.columns:\n",
        "    plt.figure(figsize=(14,4))\n",
        "    plt.subplot(121)\n",
        "    sns.distplot(X_train[col])\n",
        "    plt.title(col)\n",
        "\n",
        "    plt.subplot(122)\n",
        "    stats.probplot(X_train[col], dist=\"norm\", plot=plt)\n",
        "    plt.title(col)\n",
        "\n",
        "    plt.show()"
      ],
      "metadata": {
        "id": "cWvfZBMBdP6Q"
      },
      "execution_count": null,
      "outputs": []
    },
    {
      "cell_type": "markdown",
      "source": [
        "# Applying Box-Cox Transform"
      ],
      "metadata": {
        "id": "AbtFYh3PfYu0"
      }
    },
    {
      "cell_type": "code",
      "source": [
        "# Applying Box-Cox Transform\n",
        "\n",
        "pt = PowerTransformer(method='box-cox')\n",
        "\n",
        "X_train_transformed = pt.fit_transform(X_train+0.000001)\n",
        "#I add 0.000001 to remove the 0 because the box_lox is not apply on zero (x>0)\n",
        "X_test_transformed = pt.transform(X_test+0.000001)\n",
        "\n",
        "pd.DataFrame({'cols':X_train.columns,'box_cox_lambdas':pt.lambdas_})"
      ],
      "metadata": {
        "id": "BPKul2kDenW6"
      },
      "execution_count": null,
      "outputs": []
    },
    {
      "cell_type": "markdown",
      "source": [
        "#applying linear regression on transformed data"
      ],
      "metadata": {
        "id": "ehJa7H9wi434"
      }
    },
    {
      "cell_type": "code",
      "source": [
        "lr=LinearRegression()\n",
        "lr.fit(X_train_transformed,y_train)\n",
        "\n",
        "y_pred=lr.predict(X_test_transformed)\n",
        "\n",
        "mse=mean_squared_error(y_test,y_pred)\n",
        "r2=r2_score(y_test,y_pred)\n",
        "print('MSE:',mse)\n",
        "print('R2:',r2)"
      ],
      "metadata": {
        "id": "-fFg-emJfn_x"
      },
      "execution_count": null,
      "outputs": []
    },
    {
      "cell_type": "markdown",
      "source": [
        "# Using cross value score"
      ],
      "metadata": {
        "id": "4IQ0AVdejTFS"
      }
    },
    {
      "cell_type": "code",
      "source": [
        "pt=PowerTransformer(method='box-cox')\n",
        "X_transformed=pt.fit_transform(X+0.000001)\n",
        "\n",
        "lr=LinearRegression()\n",
        "np.mean(cross_val_score(lr,X_transformed,y,scoring='r2'))"
      ],
      "metadata": {
        "id": "l7NyqTNjjKpx"
      },
      "execution_count": null,
      "outputs": []
    },
    {
      "cell_type": "code",
      "source": [
        "# Before and after comparision for Box-Cox Plot\n",
        "X_train_transformed = pd.DataFrame(X_train_transformed,columns=X_train.columns)\n",
        "\n",
        "for col in X_train_transformed.columns:\n",
        "    plt.figure(figsize=(14,4))\n",
        "    plt.subplot(121)\n",
        "    sns.distplot(X_train[col])\n",
        "    plt.title(col)\n",
        "\n",
        "    plt.subplot(122)\n",
        "    sns.distplot(X_train_transformed[col])\n",
        "    plt.title(col)\n",
        "\n",
        "    plt.show()"
      ],
      "metadata": {
        "id": "RjmB52JgjqRq"
      },
      "execution_count": null,
      "outputs": []
    },
    {
      "cell_type": "markdown",
      "source": [
        "# Apply Yeo-Johnson transform"
      ],
      "metadata": {
        "id": "JqZO1y4BkWzt"
      }
    },
    {
      "cell_type": "code",
      "source": [
        "\n",
        "\n",
        "pt1 = PowerTransformer()\n",
        "\n",
        "X_train_transformed2 = pt1.fit_transform(X_train)\n",
        "X_test_transformed2 = pt1.transform(X_test)\n",
        "\n",
        "lr = LinearRegression()\n",
        "lr.fit(X_train_transformed2,y_train)\n",
        "\n",
        "y_pred3 = lr.predict(X_test_transformed2)\n",
        "\n",
        "print(r2_score(y_test,y_pred3))\n",
        "\n",
        "pd.DataFrame({'cols':X_train.columns,'Yeo_Johnson_lambdas':pt1.lambdas_})"
      ],
      "metadata": {
        "id": "3PFeC0etj-Tv"
      },
      "execution_count": null,
      "outputs": []
    },
    {
      "cell_type": "code",
      "source": [
        "# applying cross val score\n",
        "\n",
        "pt = PowerTransformer()\n",
        "X_transformed2 = pt.fit_transform(X)\n",
        "\n",
        "lr = LinearRegression()\n",
        "np.mean(cross_val_score(lr,X_transformed2,y,scoring='r2'))"
      ],
      "metadata": {
        "id": "exklja_AkX7k"
      },
      "execution_count": null,
      "outputs": []
    },
    {
      "cell_type": "code",
      "source": [
        "X_train_transformed2 = pd.DataFrame(X_train_transformed2,columns=X_train.columns)"
      ],
      "metadata": {
        "id": "nTySaBW7kaZ-"
      },
      "execution_count": null,
      "outputs": []
    },
    {
      "cell_type": "code",
      "source": [
        "# Before and after comparision for Yeo-Johnson\n",
        "\n",
        "for col in X_train_transformed2.columns:\n",
        "    plt.figure(figsize=(14,4))\n",
        "    plt.subplot(121)\n",
        "    sns.distplot(X_train[col])\n",
        "    plt.title(col)\n",
        "\n",
        "    plt.subplot(122)\n",
        "    sns.distplot(X_train_transformed2[col])\n",
        "    plt.title(col)\n",
        "\n",
        "    plt.show()"
      ],
      "metadata": {
        "id": "2UcEYZcnkc6B"
      },
      "execution_count": null,
      "outputs": []
    },
    {
      "cell_type": "markdown",
      "source": [
        "# Side by side Lambdas compare"
      ],
      "metadata": {
        "id": "ANXVITUakqya"
      }
    },
    {
      "cell_type": "code",
      "source": [
        "\n",
        "pd.DataFrame({'cols':X_train.columns,'box_cox_lambdas':pt.lambdas_,'Yeo_Johnson_lambdas':pt1.lambdas_})"
      ],
      "metadata": {
        "id": "xjX2VXq2khA9"
      },
      "execution_count": null,
      "outputs": []
    },
    {
      "cell_type": "code",
      "source": [],
      "metadata": {
        "id": "L09fDSL6kosy"
      },
      "execution_count": null,
      "outputs": []
    }
  ]
}